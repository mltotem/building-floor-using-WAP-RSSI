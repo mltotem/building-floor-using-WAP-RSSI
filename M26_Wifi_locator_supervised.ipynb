{
  "nbformat": 4,
  "nbformat_minor": 0,
  "metadata": {
    "hide_input": false,
    "kernelspec": {
      "display_name": "Python 3",
      "language": "python",
      "name": "python3"
    },
    "language_info": {
      "codemirror_mode": {
        "name": "ipython",
        "version": 3
      },
      "file_extension": ".py",
      "mimetype": "text/x-python",
      "name": "python",
      "nbconvert_exporter": "python",
      "pygments_lexer": "ipython3",
      "version": "3.7.3"
    },
    "toc": {
      "colors": {
        "hover_highlight": "#DAA520",
        "running_highlight": "#FF0000",
        "selected_highlight": "#FFD700"
      },
      "moveMenuLeft": true,
      "nav_menu": {
        "height": "59px",
        "width": "252px"
      },
      "navigate_menu": true,
      "number_sections": true,
      "sideBar": true,
      "threshold": 4,
      "toc_cell": false,
      "toc_section_display": "block",
      "toc_window_display": false
    },
    "colab": {
      "name": "M26_Wifi_locator_supervised.ipynb",
      "provenance": [],
      "collapsed_sections": [
        "rV-PINOI18e6",
        "Ukt23DGS18fG",
        "d_aTdWkI2GF4"
      ]
    }
  },
  "cells": [
    {
      "cell_type": "markdown",
      "metadata": {
        "id": "Vq_u_8vgZeLH",
        "colab_type": "text"
      },
      "source": [
        "https://archive.ics.uci.edu/ml/datasets/UJIIndoorLoc\n",
        "\n",
        "\"The 529 attributes contain the WiFi fingerprint, the coordinates where it was taken, and other useful information.\n",
        "\n",
        "Each WiFi fingerprint can be characterized by the detected Wireless Access Points (WAPs) and the corresponding Received Signal Strength Intensity (RSSI). The intensity values are represented as negative integer values ranging -104dBm (extremely poor signal) to 0dbM. The positive value 100 is used to denote when a WAP was not detected. During the database creation, 520 different WAPs were detected. Thus, the WiFi fingerprint is composed by 520 intensity values.\n",
        "\n",
        "Then the coordinates (latitude, longitude, floor) and Building ID are provided as the attributes to be predicted.\n",
        "\n",
        "Additional information has been provided.\n",
        "\n",
        "The particular space (offices, labs, etc.) and the relative position (inside/outside the space) where the capture was taken have been recorded. Outside means that the capture was taken in front of the door of the space.\n",
        "\n",
        "Information about who (user), how (android device & version) and when (timestamp) WiFi capture was taken is also recorded. \"\n",
        "\n",
        "Can use regression to get lat/long or classification to predict building/floor"
      ]
    },
    {
      "cell_type": "markdown",
      "metadata": {
        "id": "wuv6hx1RZ94g",
        "colab_type": "text"
      },
      "source": [
        "For this exercise, we will use classification to predict building/floor"
      ]
    },
    {
      "cell_type": "markdown",
      "metadata": {
        "id": "vhSt7Z4IqUBZ",
        "colab_type": "text"
      },
      "source": [
        "# 0. Imports"
      ]
    },
    {
      "cell_type": "code",
      "metadata": {
        "run_control": {
          "frozen": false,
          "read_only": false
        },
        "id": "zxEaOTz518e1",
        "colab_type": "code",
        "colab": {}
      },
      "source": [
        "import pandas as pd\n",
        "import numpy as np\n",
        "import scipy\n",
        "import matplotlib.pyplot as plt\n",
        "%matplotlib inline\n",
        "\n",
        "from sklearn import ensemble\n",
        "from sklearn import neighbors\n",
        "from sklearn import datasets\n",
        "from sklearn.utils import shuffle\n",
        "from sklearn.metrics import mean_squared_error"
      ],
      "execution_count": null,
      "outputs": []
    },
    {
      "cell_type": "markdown",
      "metadata": {
        "id": "puKtSTLsqZgX",
        "colab_type": "text"
      },
      "source": [
        "# 1. Load Dataset"
      ]
    },
    {
      "cell_type": "code",
      "metadata": {
        "id": "urbNatofljSG",
        "colab_type": "code",
        "colab": {}
      },
      "source": [
        "df = pd.read_csv('https://raw.githubusercontent.com/mltotem/building-floor-using-WAP-RSSI/master/UJIndoorLOC/trainingData.csv')\n",
        "df_test = pd.read_csv('https://raw.githubusercontent.com/mltotem/building-floor-using-WAP-RSSI/master/UJIndoorLOC/validationData.csv')"
      ],
      "execution_count": null,
      "outputs": []
    },
    {
      "cell_type": "markdown",
      "metadata": {
        "id": "_vYc_etZqlQt",
        "colab_type": "text"
      },
      "source": [
        "# 2. Preview / Pre-processing"
      ]
    },
    {
      "cell_type": "code",
      "metadata": {
        "id": "Lqhjc1cjXuVy",
        "colab_type": "code",
        "colab": {
          "base_uri": "https://localhost:8080/",
          "height": 333
        },
        "outputId": "98617e50-6fac-4724-fe8f-3cc30920f1a0"
      },
      "source": [
        "df.describe()"
      ],
      "execution_count": null,
      "outputs": [
        {
          "output_type": "execute_result",
          "data": {
            "text/html": [
              "<div>\n",
              "<style scoped>\n",
              "    .dataframe tbody tr th:only-of-type {\n",
              "        vertical-align: middle;\n",
              "    }\n",
              "\n",
              "    .dataframe tbody tr th {\n",
              "        vertical-align: top;\n",
              "    }\n",
              "\n",
              "    .dataframe thead th {\n",
              "        text-align: right;\n",
              "    }\n",
              "</style>\n",
              "<table border=\"1\" class=\"dataframe\">\n",
              "  <thead>\n",
              "    <tr style=\"text-align: right;\">\n",
              "      <th></th>\n",
              "      <th>WAP001</th>\n",
              "      <th>WAP002</th>\n",
              "      <th>WAP003</th>\n",
              "      <th>WAP004</th>\n",
              "      <th>WAP005</th>\n",
              "      <th>WAP006</th>\n",
              "      <th>WAP007</th>\n",
              "      <th>WAP008</th>\n",
              "      <th>WAP009</th>\n",
              "      <th>WAP010</th>\n",
              "      <th>WAP011</th>\n",
              "      <th>WAP012</th>\n",
              "      <th>WAP013</th>\n",
              "      <th>WAP014</th>\n",
              "      <th>WAP015</th>\n",
              "      <th>WAP016</th>\n",
              "      <th>WAP017</th>\n",
              "      <th>WAP018</th>\n",
              "      <th>WAP019</th>\n",
              "      <th>WAP020</th>\n",
              "      <th>WAP021</th>\n",
              "      <th>WAP022</th>\n",
              "      <th>WAP023</th>\n",
              "      <th>WAP024</th>\n",
              "      <th>WAP025</th>\n",
              "      <th>WAP026</th>\n",
              "      <th>WAP027</th>\n",
              "      <th>WAP028</th>\n",
              "      <th>WAP029</th>\n",
              "      <th>WAP030</th>\n",
              "      <th>WAP031</th>\n",
              "      <th>WAP032</th>\n",
              "      <th>WAP033</th>\n",
              "      <th>WAP034</th>\n",
              "      <th>WAP035</th>\n",
              "      <th>WAP036</th>\n",
              "      <th>WAP037</th>\n",
              "      <th>WAP038</th>\n",
              "      <th>WAP039</th>\n",
              "      <th>WAP040</th>\n",
              "      <th>...</th>\n",
              "      <th>WAP490</th>\n",
              "      <th>WAP491</th>\n",
              "      <th>WAP492</th>\n",
              "      <th>WAP493</th>\n",
              "      <th>WAP494</th>\n",
              "      <th>WAP495</th>\n",
              "      <th>WAP496</th>\n",
              "      <th>WAP497</th>\n",
              "      <th>WAP498</th>\n",
              "      <th>WAP499</th>\n",
              "      <th>WAP500</th>\n",
              "      <th>WAP501</th>\n",
              "      <th>WAP502</th>\n",
              "      <th>WAP503</th>\n",
              "      <th>WAP504</th>\n",
              "      <th>WAP505</th>\n",
              "      <th>WAP506</th>\n",
              "      <th>WAP507</th>\n",
              "      <th>WAP508</th>\n",
              "      <th>WAP509</th>\n",
              "      <th>WAP510</th>\n",
              "      <th>WAP511</th>\n",
              "      <th>WAP512</th>\n",
              "      <th>WAP513</th>\n",
              "      <th>WAP514</th>\n",
              "      <th>WAP515</th>\n",
              "      <th>WAP516</th>\n",
              "      <th>WAP517</th>\n",
              "      <th>WAP518</th>\n",
              "      <th>WAP519</th>\n",
              "      <th>WAP520</th>\n",
              "      <th>LONGITUDE</th>\n",
              "      <th>LATITUDE</th>\n",
              "      <th>FLOOR</th>\n",
              "      <th>BUILDINGID</th>\n",
              "      <th>SPACEID</th>\n",
              "      <th>RELATIVEPOSITION</th>\n",
              "      <th>USERID</th>\n",
              "      <th>PHONEID</th>\n",
              "      <th>TIMESTAMP</th>\n",
              "    </tr>\n",
              "  </thead>\n",
              "  <tbody>\n",
              "    <tr>\n",
              "      <th>count</th>\n",
              "      <td>19937.000000</td>\n",
              "      <td>19937.000000</td>\n",
              "      <td>19937.0</td>\n",
              "      <td>19937.0</td>\n",
              "      <td>19937.000000</td>\n",
              "      <td>19937.000000</td>\n",
              "      <td>19937.000000</td>\n",
              "      <td>19937.000000</td>\n",
              "      <td>19937.000000</td>\n",
              "      <td>19937.000000</td>\n",
              "      <td>19937.000000</td>\n",
              "      <td>19937.000000</td>\n",
              "      <td>19937.000000</td>\n",
              "      <td>19937.000000</td>\n",
              "      <td>19937.000000</td>\n",
              "      <td>19937.000000</td>\n",
              "      <td>19937.000000</td>\n",
              "      <td>19937.000000</td>\n",
              "      <td>19937.000000</td>\n",
              "      <td>19937.000000</td>\n",
              "      <td>19937.000000</td>\n",
              "      <td>19937.000000</td>\n",
              "      <td>19937.000000</td>\n",
              "      <td>19937.000000</td>\n",
              "      <td>19937.000000</td>\n",
              "      <td>19937.000000</td>\n",
              "      <td>19937.000000</td>\n",
              "      <td>19937.000000</td>\n",
              "      <td>19937.000000</td>\n",
              "      <td>19937.000000</td>\n",
              "      <td>19937.000000</td>\n",
              "      <td>19937.000000</td>\n",
              "      <td>19937.000000</td>\n",
              "      <td>19937.000000</td>\n",
              "      <td>19937.000000</td>\n",
              "      <td>19937.000000</td>\n",
              "      <td>19937.000000</td>\n",
              "      <td>19937.000000</td>\n",
              "      <td>19937.000000</td>\n",
              "      <td>19937.000000</td>\n",
              "      <td>...</td>\n",
              "      <td>19937.000000</td>\n",
              "      <td>19937.0</td>\n",
              "      <td>19937.000000</td>\n",
              "      <td>19937.000000</td>\n",
              "      <td>19937.000000</td>\n",
              "      <td>19937.000000</td>\n",
              "      <td>19937.000000</td>\n",
              "      <td>19937.0</td>\n",
              "      <td>19937.000000</td>\n",
              "      <td>19937.000000</td>\n",
              "      <td>19937.000000</td>\n",
              "      <td>19937.000000</td>\n",
              "      <td>19937.000000</td>\n",
              "      <td>19937.000000</td>\n",
              "      <td>19937.000000</td>\n",
              "      <td>19937.000000</td>\n",
              "      <td>19937.000000</td>\n",
              "      <td>19937.000000</td>\n",
              "      <td>19937.000000</td>\n",
              "      <td>19937.000000</td>\n",
              "      <td>19937.000000</td>\n",
              "      <td>19937.000000</td>\n",
              "      <td>19937.000000</td>\n",
              "      <td>19937.000000</td>\n",
              "      <td>19937.000000</td>\n",
              "      <td>19937.000000</td>\n",
              "      <td>19937.000000</td>\n",
              "      <td>19937.000000</td>\n",
              "      <td>19937.000000</td>\n",
              "      <td>19937.000000</td>\n",
              "      <td>19937.0</td>\n",
              "      <td>19937.000000</td>\n",
              "      <td>1.993700e+04</td>\n",
              "      <td>19937.000000</td>\n",
              "      <td>19937.000000</td>\n",
              "      <td>19937.000000</td>\n",
              "      <td>19937.000000</td>\n",
              "      <td>19937.000000</td>\n",
              "      <td>19937.000000</td>\n",
              "      <td>1.993700e+04</td>\n",
              "    </tr>\n",
              "    <tr>\n",
              "      <th>mean</th>\n",
              "      <td>99.823644</td>\n",
              "      <td>99.820936</td>\n",
              "      <td>100.0</td>\n",
              "      <td>100.0</td>\n",
              "      <td>99.613733</td>\n",
              "      <td>97.130461</td>\n",
              "      <td>94.733661</td>\n",
              "      <td>93.820234</td>\n",
              "      <td>94.693936</td>\n",
              "      <td>99.163766</td>\n",
              "      <td>74.144606</td>\n",
              "      <td>73.899182</td>\n",
              "      <td>82.795606</td>\n",
              "      <td>82.959372</td>\n",
              "      <td>90.617144</td>\n",
              "      <td>90.627075</td>\n",
              "      <td>99.199980</td>\n",
              "      <td>99.154988</td>\n",
              "      <td>96.326529</td>\n",
              "      <td>96.577168</td>\n",
              "      <td>99.639565</td>\n",
              "      <td>99.640066</td>\n",
              "      <td>93.044239</td>\n",
              "      <td>92.999649</td>\n",
              "      <td>94.373677</td>\n",
              "      <td>94.154386</td>\n",
              "      <td>93.043136</td>\n",
              "      <td>92.785223</td>\n",
              "      <td>86.829914</td>\n",
              "      <td>86.330491</td>\n",
              "      <td>94.677685</td>\n",
              "      <td>94.687114</td>\n",
              "      <td>86.461454</td>\n",
              "      <td>86.512264</td>\n",
              "      <td>83.697196</td>\n",
              "      <td>83.694989</td>\n",
              "      <td>92.220745</td>\n",
              "      <td>93.604655</td>\n",
              "      <td>87.036565</td>\n",
              "      <td>86.731103</td>\n",
              "      <td>...</td>\n",
              "      <td>99.884386</td>\n",
              "      <td>100.0</td>\n",
              "      <td>98.956814</td>\n",
              "      <td>98.899182</td>\n",
              "      <td>99.079500</td>\n",
              "      <td>72.728545</td>\n",
              "      <td>57.995436</td>\n",
              "      <td>100.0</td>\n",
              "      <td>98.909465</td>\n",
              "      <td>98.822240</td>\n",
              "      <td>99.019812</td>\n",
              "      <td>70.857802</td>\n",
              "      <td>58.966846</td>\n",
              "      <td>83.426995</td>\n",
              "      <td>99.365953</td>\n",
              "      <td>99.981442</td>\n",
              "      <td>99.705021</td>\n",
              "      <td>99.980338</td>\n",
              "      <td>99.115313</td>\n",
              "      <td>99.943372</td>\n",
              "      <td>99.990119</td>\n",
              "      <td>84.974921</td>\n",
              "      <td>99.866881</td>\n",
              "      <td>98.881276</td>\n",
              "      <td>98.833325</td>\n",
              "      <td>99.436525</td>\n",
              "      <td>73.705673</td>\n",
              "      <td>59.889803</td>\n",
              "      <td>99.788634</td>\n",
              "      <td>99.970507</td>\n",
              "      <td>100.0</td>\n",
              "      <td>-7464.275947</td>\n",
              "      <td>4.864871e+06</td>\n",
              "      <td>1.674575</td>\n",
              "      <td>1.212820</td>\n",
              "      <td>148.429954</td>\n",
              "      <td>1.833024</td>\n",
              "      <td>9.068014</td>\n",
              "      <td>13.021869</td>\n",
              "      <td>1.371421e+09</td>\n",
              "    </tr>\n",
              "    <tr>\n",
              "      <th>std</th>\n",
              "      <td>5.866842</td>\n",
              "      <td>5.798156</td>\n",
              "      <td>0.0</td>\n",
              "      <td>0.0</td>\n",
              "      <td>8.615657</td>\n",
              "      <td>22.931890</td>\n",
              "      <td>30.541335</td>\n",
              "      <td>33.010404</td>\n",
              "      <td>30.305084</td>\n",
              "      <td>12.634045</td>\n",
              "      <td>62.182586</td>\n",
              "      <td>62.442166</td>\n",
              "      <td>52.005624</td>\n",
              "      <td>51.803007</td>\n",
              "      <td>40.711249</td>\n",
              "      <td>40.832376</td>\n",
              "      <td>12.301962</td>\n",
              "      <td>12.621951</td>\n",
              "      <td>25.142380</td>\n",
              "      <td>24.272157</td>\n",
              "      <td>8.359643</td>\n",
              "      <td>8.348003</td>\n",
              "      <td>34.559630</td>\n",
              "      <td>34.664154</td>\n",
              "      <td>31.181223</td>\n",
              "      <td>31.773437</td>\n",
              "      <td>34.531143</td>\n",
              "      <td>35.109838</td>\n",
              "      <td>45.940359</td>\n",
              "      <td>46.821541</td>\n",
              "      <td>30.087370</td>\n",
              "      <td>30.027574</td>\n",
              "      <td>46.513779</td>\n",
              "      <td>46.418554</td>\n",
              "      <td>50.700623</td>\n",
              "      <td>50.734245</td>\n",
              "      <td>36.648323</td>\n",
              "      <td>33.349681</td>\n",
              "      <td>45.515553</td>\n",
              "      <td>46.055288</td>\n",
              "      <td>...</td>\n",
              "      <td>4.711652</td>\n",
              "      <td>0.0</td>\n",
              "      <td>13.701929</td>\n",
              "      <td>14.211409</td>\n",
              "      <td>13.099782</td>\n",
              "      <td>63.319197</td>\n",
              "      <td>75.334826</td>\n",
              "      <td>0.0</td>\n",
              "      <td>14.020779</td>\n",
              "      <td>14.715204</td>\n",
              "      <td>13.539838</td>\n",
              "      <td>65.003736</td>\n",
              "      <td>74.736672</td>\n",
              "      <td>52.338958</td>\n",
              "      <td>10.921143</td>\n",
              "      <td>1.852874</td>\n",
              "      <td>7.476381</td>\n",
              "      <td>1.963071</td>\n",
              "      <td>12.994215</td>\n",
              "      <td>3.264807</td>\n",
              "      <td>1.395200</td>\n",
              "      <td>50.099899</td>\n",
              "      <td>5.023663</td>\n",
              "      <td>14.206023</td>\n",
              "      <td>14.634613</td>\n",
              "      <td>10.259137</td>\n",
              "      <td>62.278292</td>\n",
              "      <td>74.060259</td>\n",
              "      <td>6.360671</td>\n",
              "      <td>2.404232</td>\n",
              "      <td>0.0</td>\n",
              "      <td>123.402010</td>\n",
              "      <td>6.693318e+01</td>\n",
              "      <td>1.223078</td>\n",
              "      <td>0.833139</td>\n",
              "      <td>58.342106</td>\n",
              "      <td>0.372964</td>\n",
              "      <td>4.988720</td>\n",
              "      <td>5.362410</td>\n",
              "      <td>5.572054e+05</td>\n",
              "    </tr>\n",
              "    <tr>\n",
              "      <th>min</th>\n",
              "      <td>-97.000000</td>\n",
              "      <td>-90.000000</td>\n",
              "      <td>100.0</td>\n",
              "      <td>100.0</td>\n",
              "      <td>-97.000000</td>\n",
              "      <td>-98.000000</td>\n",
              "      <td>-99.000000</td>\n",
              "      <td>-98.000000</td>\n",
              "      <td>-98.000000</td>\n",
              "      <td>-99.000000</td>\n",
              "      <td>-101.000000</td>\n",
              "      <td>-101.000000</td>\n",
              "      <td>-98.000000</td>\n",
              "      <td>-98.000000</td>\n",
              "      <td>-101.000000</td>\n",
              "      <td>-99.000000</td>\n",
              "      <td>-98.000000</td>\n",
              "      <td>-98.000000</td>\n",
              "      <td>-99.000000</td>\n",
              "      <td>-99.000000</td>\n",
              "      <td>-98.000000</td>\n",
              "      <td>-98.000000</td>\n",
              "      <td>-100.000000</td>\n",
              "      <td>-99.000000</td>\n",
              "      <td>-98.000000</td>\n",
              "      <td>-98.000000</td>\n",
              "      <td>-99.000000</td>\n",
              "      <td>-98.000000</td>\n",
              "      <td>-98.000000</td>\n",
              "      <td>-99.000000</td>\n",
              "      <td>-99.000000</td>\n",
              "      <td>-101.000000</td>\n",
              "      <td>-98.000000</td>\n",
              "      <td>-98.000000</td>\n",
              "      <td>-100.000000</td>\n",
              "      <td>-98.000000</td>\n",
              "      <td>-99.000000</td>\n",
              "      <td>-98.000000</td>\n",
              "      <td>-100.000000</td>\n",
              "      <td>-98.000000</td>\n",
              "      <td>...</td>\n",
              "      <td>-96.000000</td>\n",
              "      <td>100.0</td>\n",
              "      <td>-90.000000</td>\n",
              "      <td>-91.000000</td>\n",
              "      <td>-97.000000</td>\n",
              "      <td>-100.000000</td>\n",
              "      <td>-101.000000</td>\n",
              "      <td>100.0</td>\n",
              "      <td>-90.000000</td>\n",
              "      <td>-91.000000</td>\n",
              "      <td>-97.000000</td>\n",
              "      <td>-101.000000</td>\n",
              "      <td>-97.000000</td>\n",
              "      <td>-102.000000</td>\n",
              "      <td>-99.000000</td>\n",
              "      <td>-85.000000</td>\n",
              "      <td>-97.000000</td>\n",
              "      <td>-97.000000</td>\n",
              "      <td>-97.000000</td>\n",
              "      <td>-98.000000</td>\n",
              "      <td>-97.000000</td>\n",
              "      <td>-103.000000</td>\n",
              "      <td>-97.000000</td>\n",
              "      <td>-92.000000</td>\n",
              "      <td>-90.000000</td>\n",
              "      <td>-97.000000</td>\n",
              "      <td>-101.000000</td>\n",
              "      <td>-101.000000</td>\n",
              "      <td>-97.000000</td>\n",
              "      <td>-97.000000</td>\n",
              "      <td>100.0</td>\n",
              "      <td>-7691.338400</td>\n",
              "      <td>4.864746e+06</td>\n",
              "      <td>0.000000</td>\n",
              "      <td>0.000000</td>\n",
              "      <td>1.000000</td>\n",
              "      <td>1.000000</td>\n",
              "      <td>1.000000</td>\n",
              "      <td>1.000000</td>\n",
              "      <td>1.369909e+09</td>\n",
              "    </tr>\n",
              "    <tr>\n",
              "      <th>25%</th>\n",
              "      <td>100.000000</td>\n",
              "      <td>100.000000</td>\n",
              "      <td>100.0</td>\n",
              "      <td>100.0</td>\n",
              "      <td>100.000000</td>\n",
              "      <td>100.000000</td>\n",
              "      <td>100.000000</td>\n",
              "      <td>100.000000</td>\n",
              "      <td>100.000000</td>\n",
              "      <td>100.000000</td>\n",
              "      <td>100.000000</td>\n",
              "      <td>100.000000</td>\n",
              "      <td>100.000000</td>\n",
              "      <td>100.000000</td>\n",
              "      <td>100.000000</td>\n",
              "      <td>100.000000</td>\n",
              "      <td>100.000000</td>\n",
              "      <td>100.000000</td>\n",
              "      <td>100.000000</td>\n",
              "      <td>100.000000</td>\n",
              "      <td>100.000000</td>\n",
              "      <td>100.000000</td>\n",
              "      <td>100.000000</td>\n",
              "      <td>100.000000</td>\n",
              "      <td>100.000000</td>\n",
              "      <td>100.000000</td>\n",
              "      <td>100.000000</td>\n",
              "      <td>100.000000</td>\n",
              "      <td>100.000000</td>\n",
              "      <td>100.000000</td>\n",
              "      <td>100.000000</td>\n",
              "      <td>100.000000</td>\n",
              "      <td>100.000000</td>\n",
              "      <td>100.000000</td>\n",
              "      <td>100.000000</td>\n",
              "      <td>100.000000</td>\n",
              "      <td>100.000000</td>\n",
              "      <td>100.000000</td>\n",
              "      <td>100.000000</td>\n",
              "      <td>100.000000</td>\n",
              "      <td>...</td>\n",
              "      <td>100.000000</td>\n",
              "      <td>100.0</td>\n",
              "      <td>100.000000</td>\n",
              "      <td>100.000000</td>\n",
              "      <td>100.000000</td>\n",
              "      <td>100.000000</td>\n",
              "      <td>100.000000</td>\n",
              "      <td>100.0</td>\n",
              "      <td>100.000000</td>\n",
              "      <td>100.000000</td>\n",
              "      <td>100.000000</td>\n",
              "      <td>100.000000</td>\n",
              "      <td>100.000000</td>\n",
              "      <td>100.000000</td>\n",
              "      <td>100.000000</td>\n",
              "      <td>100.000000</td>\n",
              "      <td>100.000000</td>\n",
              "      <td>100.000000</td>\n",
              "      <td>100.000000</td>\n",
              "      <td>100.000000</td>\n",
              "      <td>100.000000</td>\n",
              "      <td>100.000000</td>\n",
              "      <td>100.000000</td>\n",
              "      <td>100.000000</td>\n",
              "      <td>100.000000</td>\n",
              "      <td>100.000000</td>\n",
              "      <td>100.000000</td>\n",
              "      <td>100.000000</td>\n",
              "      <td>100.000000</td>\n",
              "      <td>100.000000</td>\n",
              "      <td>100.0</td>\n",
              "      <td>-7594.737000</td>\n",
              "      <td>4.864821e+06</td>\n",
              "      <td>1.000000</td>\n",
              "      <td>0.000000</td>\n",
              "      <td>110.000000</td>\n",
              "      <td>2.000000</td>\n",
              "      <td>5.000000</td>\n",
              "      <td>8.000000</td>\n",
              "      <td>1.371056e+09</td>\n",
              "    </tr>\n",
              "    <tr>\n",
              "      <th>50%</th>\n",
              "      <td>100.000000</td>\n",
              "      <td>100.000000</td>\n",
              "      <td>100.0</td>\n",
              "      <td>100.0</td>\n",
              "      <td>100.000000</td>\n",
              "      <td>100.000000</td>\n",
              "      <td>100.000000</td>\n",
              "      <td>100.000000</td>\n",
              "      <td>100.000000</td>\n",
              "      <td>100.000000</td>\n",
              "      <td>100.000000</td>\n",
              "      <td>100.000000</td>\n",
              "      <td>100.000000</td>\n",
              "      <td>100.000000</td>\n",
              "      <td>100.000000</td>\n",
              "      <td>100.000000</td>\n",
              "      <td>100.000000</td>\n",
              "      <td>100.000000</td>\n",
              "      <td>100.000000</td>\n",
              "      <td>100.000000</td>\n",
              "      <td>100.000000</td>\n",
              "      <td>100.000000</td>\n",
              "      <td>100.000000</td>\n",
              "      <td>100.000000</td>\n",
              "      <td>100.000000</td>\n",
              "      <td>100.000000</td>\n",
              "      <td>100.000000</td>\n",
              "      <td>100.000000</td>\n",
              "      <td>100.000000</td>\n",
              "      <td>100.000000</td>\n",
              "      <td>100.000000</td>\n",
              "      <td>100.000000</td>\n",
              "      <td>100.000000</td>\n",
              "      <td>100.000000</td>\n",
              "      <td>100.000000</td>\n",
              "      <td>100.000000</td>\n",
              "      <td>100.000000</td>\n",
              "      <td>100.000000</td>\n",
              "      <td>100.000000</td>\n",
              "      <td>100.000000</td>\n",
              "      <td>...</td>\n",
              "      <td>100.000000</td>\n",
              "      <td>100.0</td>\n",
              "      <td>100.000000</td>\n",
              "      <td>100.000000</td>\n",
              "      <td>100.000000</td>\n",
              "      <td>100.000000</td>\n",
              "      <td>100.000000</td>\n",
              "      <td>100.0</td>\n",
              "      <td>100.000000</td>\n",
              "      <td>100.000000</td>\n",
              "      <td>100.000000</td>\n",
              "      <td>100.000000</td>\n",
              "      <td>100.000000</td>\n",
              "      <td>100.000000</td>\n",
              "      <td>100.000000</td>\n",
              "      <td>100.000000</td>\n",
              "      <td>100.000000</td>\n",
              "      <td>100.000000</td>\n",
              "      <td>100.000000</td>\n",
              "      <td>100.000000</td>\n",
              "      <td>100.000000</td>\n",
              "      <td>100.000000</td>\n",
              "      <td>100.000000</td>\n",
              "      <td>100.000000</td>\n",
              "      <td>100.000000</td>\n",
              "      <td>100.000000</td>\n",
              "      <td>100.000000</td>\n",
              "      <td>100.000000</td>\n",
              "      <td>100.000000</td>\n",
              "      <td>100.000000</td>\n",
              "      <td>100.0</td>\n",
              "      <td>-7423.060900</td>\n",
              "      <td>4.864852e+06</td>\n",
              "      <td>2.000000</td>\n",
              "      <td>1.000000</td>\n",
              "      <td>129.000000</td>\n",
              "      <td>2.000000</td>\n",
              "      <td>11.000000</td>\n",
              "      <td>13.000000</td>\n",
              "      <td>1.371716e+09</td>\n",
              "    </tr>\n",
              "    <tr>\n",
              "      <th>75%</th>\n",
              "      <td>100.000000</td>\n",
              "      <td>100.000000</td>\n",
              "      <td>100.0</td>\n",
              "      <td>100.0</td>\n",
              "      <td>100.000000</td>\n",
              "      <td>100.000000</td>\n",
              "      <td>100.000000</td>\n",
              "      <td>100.000000</td>\n",
              "      <td>100.000000</td>\n",
              "      <td>100.000000</td>\n",
              "      <td>100.000000</td>\n",
              "      <td>100.000000</td>\n",
              "      <td>100.000000</td>\n",
              "      <td>100.000000</td>\n",
              "      <td>100.000000</td>\n",
              "      <td>100.000000</td>\n",
              "      <td>100.000000</td>\n",
              "      <td>100.000000</td>\n",
              "      <td>100.000000</td>\n",
              "      <td>100.000000</td>\n",
              "      <td>100.000000</td>\n",
              "      <td>100.000000</td>\n",
              "      <td>100.000000</td>\n",
              "      <td>100.000000</td>\n",
              "      <td>100.000000</td>\n",
              "      <td>100.000000</td>\n",
              "      <td>100.000000</td>\n",
              "      <td>100.000000</td>\n",
              "      <td>100.000000</td>\n",
              "      <td>100.000000</td>\n",
              "      <td>100.000000</td>\n",
              "      <td>100.000000</td>\n",
              "      <td>100.000000</td>\n",
              "      <td>100.000000</td>\n",
              "      <td>100.000000</td>\n",
              "      <td>100.000000</td>\n",
              "      <td>100.000000</td>\n",
              "      <td>100.000000</td>\n",
              "      <td>100.000000</td>\n",
              "      <td>100.000000</td>\n",
              "      <td>...</td>\n",
              "      <td>100.000000</td>\n",
              "      <td>100.0</td>\n",
              "      <td>100.000000</td>\n",
              "      <td>100.000000</td>\n",
              "      <td>100.000000</td>\n",
              "      <td>100.000000</td>\n",
              "      <td>100.000000</td>\n",
              "      <td>100.0</td>\n",
              "      <td>100.000000</td>\n",
              "      <td>100.000000</td>\n",
              "      <td>100.000000</td>\n",
              "      <td>100.000000</td>\n",
              "      <td>100.000000</td>\n",
              "      <td>100.000000</td>\n",
              "      <td>100.000000</td>\n",
              "      <td>100.000000</td>\n",
              "      <td>100.000000</td>\n",
              "      <td>100.000000</td>\n",
              "      <td>100.000000</td>\n",
              "      <td>100.000000</td>\n",
              "      <td>100.000000</td>\n",
              "      <td>100.000000</td>\n",
              "      <td>100.000000</td>\n",
              "      <td>100.000000</td>\n",
              "      <td>100.000000</td>\n",
              "      <td>100.000000</td>\n",
              "      <td>100.000000</td>\n",
              "      <td>100.000000</td>\n",
              "      <td>100.000000</td>\n",
              "      <td>100.000000</td>\n",
              "      <td>100.0</td>\n",
              "      <td>-7359.193000</td>\n",
              "      <td>4.864930e+06</td>\n",
              "      <td>3.000000</td>\n",
              "      <td>2.000000</td>\n",
              "      <td>207.000000</td>\n",
              "      <td>2.000000</td>\n",
              "      <td>13.000000</td>\n",
              "      <td>14.000000</td>\n",
              "      <td>1.371721e+09</td>\n",
              "    </tr>\n",
              "    <tr>\n",
              "      <th>max</th>\n",
              "      <td>100.000000</td>\n",
              "      <td>100.000000</td>\n",
              "      <td>100.0</td>\n",
              "      <td>100.0</td>\n",
              "      <td>100.000000</td>\n",
              "      <td>100.000000</td>\n",
              "      <td>100.000000</td>\n",
              "      <td>100.000000</td>\n",
              "      <td>100.000000</td>\n",
              "      <td>100.000000</td>\n",
              "      <td>100.000000</td>\n",
              "      <td>100.000000</td>\n",
              "      <td>100.000000</td>\n",
              "      <td>100.000000</td>\n",
              "      <td>100.000000</td>\n",
              "      <td>100.000000</td>\n",
              "      <td>100.000000</td>\n",
              "      <td>100.000000</td>\n",
              "      <td>100.000000</td>\n",
              "      <td>100.000000</td>\n",
              "      <td>100.000000</td>\n",
              "      <td>100.000000</td>\n",
              "      <td>100.000000</td>\n",
              "      <td>100.000000</td>\n",
              "      <td>100.000000</td>\n",
              "      <td>100.000000</td>\n",
              "      <td>100.000000</td>\n",
              "      <td>100.000000</td>\n",
              "      <td>100.000000</td>\n",
              "      <td>100.000000</td>\n",
              "      <td>100.000000</td>\n",
              "      <td>100.000000</td>\n",
              "      <td>100.000000</td>\n",
              "      <td>100.000000</td>\n",
              "      <td>100.000000</td>\n",
              "      <td>100.000000</td>\n",
              "      <td>100.000000</td>\n",
              "      <td>100.000000</td>\n",
              "      <td>100.000000</td>\n",
              "      <td>100.000000</td>\n",
              "      <td>...</td>\n",
              "      <td>100.000000</td>\n",
              "      <td>100.0</td>\n",
              "      <td>100.000000</td>\n",
              "      <td>100.000000</td>\n",
              "      <td>100.000000</td>\n",
              "      <td>100.000000</td>\n",
              "      <td>100.000000</td>\n",
              "      <td>100.0</td>\n",
              "      <td>100.000000</td>\n",
              "      <td>100.000000</td>\n",
              "      <td>100.000000</td>\n",
              "      <td>100.000000</td>\n",
              "      <td>100.000000</td>\n",
              "      <td>100.000000</td>\n",
              "      <td>100.000000</td>\n",
              "      <td>100.000000</td>\n",
              "      <td>100.000000</td>\n",
              "      <td>100.000000</td>\n",
              "      <td>100.000000</td>\n",
              "      <td>100.000000</td>\n",
              "      <td>100.000000</td>\n",
              "      <td>100.000000</td>\n",
              "      <td>100.000000</td>\n",
              "      <td>100.000000</td>\n",
              "      <td>100.000000</td>\n",
              "      <td>100.000000</td>\n",
              "      <td>100.000000</td>\n",
              "      <td>100.000000</td>\n",
              "      <td>100.000000</td>\n",
              "      <td>100.000000</td>\n",
              "      <td>100.0</td>\n",
              "      <td>-7300.818990</td>\n",
              "      <td>4.865017e+06</td>\n",
              "      <td>4.000000</td>\n",
              "      <td>2.000000</td>\n",
              "      <td>254.000000</td>\n",
              "      <td>2.000000</td>\n",
              "      <td>18.000000</td>\n",
              "      <td>24.000000</td>\n",
              "      <td>1.371738e+09</td>\n",
              "    </tr>\n",
              "  </tbody>\n",
              "</table>\n",
              "<p>8 rows × 529 columns</p>\n",
              "</div>"
            ],
            "text/plain": [
              "             WAP001        WAP002  ...       PHONEID     TIMESTAMP\n",
              "count  19937.000000  19937.000000  ...  19937.000000  1.993700e+04\n",
              "mean      99.823644     99.820936  ...     13.021869  1.371421e+09\n",
              "std        5.866842      5.798156  ...      5.362410  5.572054e+05\n",
              "min      -97.000000    -90.000000  ...      1.000000  1.369909e+09\n",
              "25%      100.000000    100.000000  ...      8.000000  1.371056e+09\n",
              "50%      100.000000    100.000000  ...     13.000000  1.371716e+09\n",
              "75%      100.000000    100.000000  ...     14.000000  1.371721e+09\n",
              "max      100.000000    100.000000  ...     24.000000  1.371738e+09\n",
              "\n",
              "[8 rows x 529 columns]"
            ]
          },
          "metadata": {
            "tags": []
          },
          "execution_count": 3
        }
      ]
    },
    {
      "cell_type": "code",
      "metadata": {
        "id": "k-GMMr72Jzpt",
        "colab_type": "code",
        "colab": {
          "base_uri": "https://localhost:8080/",
          "height": 118
        },
        "outputId": "2abfd758-4ebb-4f12-b76a-9cef6ee94a77"
      },
      "source": [
        "df.columns"
      ],
      "execution_count": null,
      "outputs": [
        {
          "output_type": "execute_result",
          "data": {
            "text/plain": [
              "Index(['WAP001', 'WAP002', 'WAP003', 'WAP004', 'WAP005', 'WAP006', 'WAP007',\n",
              "       'WAP008', 'WAP009', 'WAP010',\n",
              "       ...\n",
              "       'WAP520', 'LONGITUDE', 'LATITUDE', 'FLOOR', 'BUILDINGID', 'SPACEID',\n",
              "       'RELATIVEPOSITION', 'USERID', 'PHONEID', 'TIMESTAMP'],\n",
              "      dtype='object', length=529)"
            ]
          },
          "metadata": {
            "tags": []
          },
          "execution_count": 4
        }
      ]
    },
    {
      "cell_type": "markdown",
      "metadata": {
        "id": "m_y--aJ-G8zJ",
        "colab_type": "text"
      },
      "source": [
        "Check data for na"
      ]
    },
    {
      "cell_type": "code",
      "metadata": {
        "id": "fhBS_TyJeHGU",
        "colab_type": "code",
        "colab": {
          "base_uri": "https://localhost:8080/",
          "height": 34
        },
        "outputId": "4f5498bc-c9cd-4b98-ffdd-31ce8632511a"
      },
      "source": [
        "df.isna().sum().sum()"
      ],
      "execution_count": null,
      "outputs": [
        {
          "output_type": "execute_result",
          "data": {
            "text/plain": [
              "0"
            ]
          },
          "metadata": {
            "tags": []
          },
          "execution_count": 5
        }
      ]
    },
    {
      "cell_type": "markdown",
      "metadata": {
        "id": "C55Nzss0sVws",
        "colab_type": "text"
      },
      "source": [
        "## Define columns for features / output"
      ]
    },
    {
      "cell_type": "code",
      "metadata": {
        "id": "V9zZ1L5-3HIw",
        "colab_type": "code",
        "colab": {}
      },
      "source": [
        "columns_to_drop = ['LONGITUDE', 'LATITUDE', 'FLOOR', 'BUILDINGID', 'SPACEID',\n",
        "                   'RELATIVEPOSITION', 'USERID', 'PHONEID', 'TIMESTAMP']                 "
      ],
      "execution_count": null,
      "outputs": []
    },
    {
      "cell_type": "code",
      "metadata": {
        "id": "7xWmzLOTwDLL",
        "colab_type": "code",
        "colab": {}
      },
      "source": [
        "X_train = df.drop(columns_to_drop,axis=1)"
      ],
      "execution_count": null,
      "outputs": []
    },
    {
      "cell_type": "code",
      "metadata": {
        "id": "gQm88ickwRVE",
        "colab_type": "code",
        "colab": {}
      },
      "source": [
        "y_train = df['BUILDINGID']"
      ],
      "execution_count": null,
      "outputs": []
    },
    {
      "cell_type": "markdown",
      "metadata": {
        "id": "ALfy7PZ25WqX",
        "colab_type": "text"
      },
      "source": [
        "# 3. Training - Boost Model"
      ]
    },
    {
      "cell_type": "markdown",
      "metadata": {
        "id": "HLhncZspr3MN",
        "colab_type": "text"
      },
      "source": [
        "Define Gradient Boost Model function"
      ]
    },
    {
      "cell_type": "code",
      "metadata": {
        "id": "w1tIuaIbwvrt",
        "colab_type": "code",
        "colab": {}
      },
      "source": [
        "def boost_model(X, y, n_estimators=100, depth=3, learning_rate=0.1, subsample=1.0):\n",
        "\n",
        "  params = {'n_estimators': n_estimators,\n",
        "            'max_depth': depth,\n",
        "            'loss': 'deviance',\n",
        "            'learning_rate': learning_rate,\n",
        "            'subsample':subsample}\n",
        "\n",
        "  # Initialize and fit the model.\n",
        "  clf = ensemble.GradientBoostingClassifier(**params)\n",
        "  clf.fit(X, y)\n",
        "  score = clf.score(X,y)\n",
        "  print('  score:',score)\n",
        "\n",
        "  return clf, score"
      ],
      "execution_count": null,
      "outputs": []
    },
    {
      "cell_type": "markdown",
      "metadata": {
        "id": "MCBJckRyr-Hm",
        "colab_type": "text"
      },
      "source": [
        "## Predict building ID only"
      ]
    },
    {
      "cell_type": "code",
      "metadata": {
        "id": "RIsdpvQazCRw",
        "colab_type": "code",
        "colab": {
          "base_uri": "https://localhost:8080/",
          "height": 34
        },
        "outputId": "05aea356-e03e-40ed-ce72-aee128f301e7"
      },
      "source": [
        "# classify by buildingID\n",
        "bldgID_clf = boost_model(X_train, y_train)"
      ],
      "execution_count": null,
      "outputs": [
        {
          "output_type": "stream",
          "text": [
            "score: 0.9980438380899834\n"
          ],
          "name": "stdout"
        }
      ]
    },
    {
      "cell_type": "markdown",
      "metadata": {
        "id": "bdVIcKTzx2i3",
        "colab_type": "text"
      },
      "source": [
        "99.8% accuracy in predicting the building\n",
        "\n",
        "Let's also predict building and floor"
      ]
    },
    {
      "cell_type": "markdown",
      "metadata": {
        "id": "vMlqr5xuKtIY",
        "colab_type": "text"
      },
      "source": [
        "## Predict Building and Floor"
      ]
    },
    {
      "cell_type": "markdown",
      "metadata": {
        "id": "Mmw3Tk2psnaD",
        "colab_type": "text"
      },
      "source": [
        "Determine # of floors per building, then \"stack\" the floors from all the buildings"
      ]
    },
    {
      "cell_type": "code",
      "metadata": {
        "id": "8uzYaRXU5Wue",
        "colab_type": "code",
        "colab": {
          "base_uri": "https://localhost:8080/",
          "height": 67
        },
        "outputId": "758b86ba-f9f8-4d55-b342-85b7e24163ef"
      },
      "source": [
        "for building in df['BUILDINGID'].unique():\n",
        "  print('building',building,':', df[df['BUILDINGID'] == building]['FLOOR'].unique() )"
      ],
      "execution_count": null,
      "outputs": [
        {
          "output_type": "stream",
          "text": [
            "building 1 : [2 0 1 3]\n",
            "building 0 : [0 2 1 3]\n",
            "building 2 : [3 2 4 1 0]\n"
          ],
          "name": "stdout"
        }
      ]
    },
    {
      "cell_type": "markdown",
      "metadata": {
        "id": "hIPMAKKeK1Mc",
        "colab_type": "text"
      },
      "source": [
        "Create feature 'BLDG_FLOOR' by stacking the floors from all the buildings"
      ]
    },
    {
      "cell_type": "code",
      "metadata": {
        "id": "0JQsnkhczbGj",
        "colab_type": "code",
        "colab": {
          "base_uri": "https://localhost:8080/",
          "height": 34
        },
        "outputId": "3f75fcb0-d1da-42ab-a424-0585509c05d8"
      },
      "source": [
        "df['BLDG_FLOOR'] = np.add(np.multiply(df['BUILDINGID'], 4), df['FLOOR'])\n",
        "print(df['BLDG_FLOOR'].unique() )   # should be 0 - 12"
      ],
      "execution_count": null,
      "outputs": [
        {
          "output_type": "stream",
          "text": [
            "[ 6  0 11 10 12  4  5  9  7  8  2  1  3]\n"
          ],
          "name": "stdout"
        }
      ]
    },
    {
      "cell_type": "code",
      "metadata": {
        "id": "YatTVRF65rUk",
        "colab_type": "code",
        "colab": {}
      },
      "source": [
        "columns_to_drop.append('BLDG_FLOOR')"
      ],
      "execution_count": null,
      "outputs": []
    },
    {
      "cell_type": "code",
      "metadata": {
        "id": "cWisncIHj1gh",
        "colab_type": "code",
        "colab": {
          "base_uri": "https://localhost:8080/",
          "height": 34
        },
        "outputId": "5b20c6fd-f10f-4ecf-ac43-0b23f872b72d"
      },
      "source": [
        "X_train = df.drop(columns_to_drop,axis=1)\n",
        "y_train = df['BLDG_FLOOR']\n",
        "base_clf,_ = boost_model(X_train, y_train)"
      ],
      "execution_count": null,
      "outputs": [
        {
          "output_type": "stream",
          "text": [
            "score: 0.9977930481015198\n"
          ],
          "name": "stdout"
        }
      ]
    },
    {
      "cell_type": "markdown",
      "metadata": {
        "id": "zWQsPeYKLVh7",
        "colab_type": "text"
      },
      "source": [
        "still 99.8%"
      ]
    },
    {
      "cell_type": "markdown",
      "metadata": {
        "id": "eQXp3kQNs-uV",
        "colab_type": "text"
      },
      "source": [
        "### Vary boost model parameters"
      ]
    },
    {
      "cell_type": "markdown",
      "metadata": {
        "id": "kxohRZJItCE-",
        "colab_type": "text"
      },
      "source": [
        "Vary depth"
      ]
    },
    {
      "cell_type": "code",
      "metadata": {
        "id": "7bV5csf9RTQZ",
        "colab_type": "code",
        "colab": {
          "base_uri": "https://localhost:8080/",
          "height": 118
        },
        "outputId": "da5d97dc-d0a6-4544-da0c-f214a7fcbba7"
      },
      "source": [
        "n = 'ALL'\n",
        "full_depth_scores = []\n",
        "full_depth_models = []\n",
        "depth = [2, 3, 4]\n",
        "\n",
        "X_train = df.drop(columns_to_drop,axis=1)\n",
        "y_train = df['BLDG_FLOOR']\n",
        "for d in depth:\n",
        "  print('Features: {}, depth: {}'.format(n, d))\n",
        "  model, score = boost_model(X_train, y_train, depth=d)\n",
        "  full_depth_scores.append(score)\n",
        "  full_depth_models.append(model)"
      ],
      "execution_count": null,
      "outputs": [
        {
          "output_type": "stream",
          "text": [
            "Features: ALL, depth: 2\n",
            "score: 0.9912725084014646\n",
            "Features: ALL, depth: 3\n",
            "score: 0.9978432060992125\n",
            "Features: ALL, depth: 4\n",
            "score: 0.9980438380899834\n"
          ],
          "name": "stdout"
        }
      ]
    },
    {
      "cell_type": "markdown",
      "metadata": {
        "id": "tz1gDTP5tHpf",
        "colab_type": "text"
      },
      "source": [
        "Vary # of estimators"
      ]
    },
    {
      "cell_type": "code",
      "metadata": {
        "id": "aZmltm20RTHk",
        "colab_type": "code",
        "colab": {
          "base_uri": "https://localhost:8080/",
          "height": 118
        },
        "outputId": "0e4b1791-286f-4b74-b884-13a537d035aa"
      },
      "source": [
        "# check performance # of estimators\n",
        "n='ALL'\n",
        "depth=5\n",
        "full_est_scores = []\n",
        "full_est_models = []\n",
        "estimators = [50, 100, 200]\n",
        "\n",
        "X_train = df.drop(columns_to_drop,axis=1)\n",
        "y_train = df['BLDG_FLOOR']\n",
        "for est in estimators:\n",
        "  print('Features: {}, depth: {}, estimators: {}'.format(n, depth, est))\n",
        "  model, score = boost_model(X_train, y_train, n_estimators=est, depth=depth)\n",
        "  full_est_scores.append(score)\n",
        "  full_est_models.append(model)"
      ],
      "execution_count": null,
      "outputs": [
        {
          "output_type": "stream",
          "text": [
            "Features: ALL, depth: 5, estimators: 50\n",
            "score: 0.9980438380899834\n",
            "Features: ALL, depth: 5, estimators: 100\n",
            "score: 0.9980438380899834\n",
            "Features: ALL, depth: 5, estimators: 200\n",
            "score: 0.9980438380899834\n"
          ],
          "name": "stdout"
        }
      ]
    },
    {
      "cell_type": "markdown",
      "metadata": {
        "id": "7bT_3_XeajID",
        "colab_type": "text"
      },
      "source": [
        "## Reduced number of features"
      ]
    },
    {
      "cell_type": "markdown",
      "metadata": {
        "id": "LTt7kKjkanw5",
        "colab_type": "text"
      },
      "source": [
        "Will reduce # of features to arbitrarily lower the model accuracy to see how learning rate, sub-sampling affects model performance"
      ]
    },
    {
      "cell_type": "markdown",
      "metadata": {
        "id": "-1eGIHWwa4t_",
        "colab_type": "text"
      },
      "source": [
        "First, review feature importance on the base model that used all the features."
      ]
    },
    {
      "cell_type": "code",
      "metadata": {
        "id": "9n2iT2v1mXrw",
        "colab_type": "code",
        "colab": {
          "base_uri": "https://localhost:8080/",
          "height": 350
        },
        "outputId": "218760ce-8201-462d-fa52-3fe5abd04a5a"
      },
      "source": [
        "feature_importances = base_clf.feature_importances_\n",
        "\n",
        "# Make importances relative to max importance.\n",
        "feature_importance = 100.0 * (feature_importances / feature_importances.max())\n",
        "sorted_idx_all = np.argsort(feature_importance)\n",
        "sorted_idx = sorted_idx_all[-15:]\n",
        "pos = np.arange(sorted_idx.shape[0]) + .5\n",
        "plt.figure(figsize=(10,5))\n",
        "#plt.subplot(1, 2, 2)\n",
        "plt.barh(pos, feature_importance[sorted_idx], align='center')\n",
        "plt.yticks(pos, X_train.columns[sorted_idx])\n",
        "plt.xlabel('Relative Importance')\n",
        "plt.title('Variable Importance')\n",
        "plt.show()"
      ],
      "execution_count": null,
      "outputs": [
        {
          "output_type": "display_data",
          "data": {
            "image/png": "[encoded data removed]",
            "text/plain": [
              "<Figure size 720x360 with 1 Axes>"
            ]
          },
          "metadata": {
            "tags": [],
            "needs_background": "light"
          }
        }
      ]
    },
    {
      "cell_type": "code",
      "metadata": {
        "id": "vHvn7mhrnOTJ",
        "colab_type": "code",
        "colab": {
          "base_uri": "https://localhost:8080/",
          "height": 168
        },
        "outputId": "cd4c037b-e4dd-4a21-dea1-9e744bfb312c"
      },
      "source": [
        "# make graph of features trained on vs errors\n",
        "scores = []\n",
        "n_features = [15, 20, 30, 40, 50, 70, 100, 150, 200]\n",
        "\n",
        "y_train = df['BLDG_FLOOR']\n",
        "for n in n_features:\n",
        "  X_train = df[df.columns[sorted_idx_all[-n:]]]\n",
        "  print('Features:',n, end=', ')\n",
        "  _, score = boost_model(X_train, y_train)\n",
        "\n",
        "  scores.append(score)"
      ],
      "execution_count": null,
      "outputs": [
        {
          "output_type": "stream",
          "text": [
            "Features: 15, score: 0.6592767216732708\n",
            "Features: 20, score: 0.7243316446807443\n",
            "Features: 30, score: 0.8672317801073381\n",
            "Features: 40, score: 0.9060540703215128\n",
            "Features: 50, score: 0.9557606460350103\n",
            "Features: 70, score: 0.9774289010382705\n",
            "Features: 100, score: 0.9941315142699504\n",
            "Features: 150, score: 0.9975422581130561\n",
            "Features: 200, score: 0.9976425741084416\n"
          ],
          "name": "stdout"
        }
      ]
    },
    {
      "cell_type": "code",
      "metadata": {
        "id": "brkw3i6oOkQB",
        "colab_type": "code",
        "colab": {
          "base_uri": "https://localhost:8080/",
          "height": 296
        },
        "outputId": "9b3cdb6e-a3d3-47c7-b548-aeed3bb926f3"
      },
      "source": [
        "# plot errors vs features for a fixed # of estinmators\n",
        "plt.plot(n_features, scores)\n",
        "plt.xlabel('Number of features used in model')\n",
        "plt.ylabel('Accuracy')"
      ],
      "execution_count": null,
      "outputs": [
        {
          "output_type": "execute_result",
          "data": {
            "text/plain": [
              "Text(0, 0.5, 'Accuracy')"
            ]
          },
          "metadata": {
            "tags": []
          },
          "execution_count": 19
        },
        {
          "output_type": "display_data",
          "data": {
            "image/png": "[encoded data removed]",
            "text/plain": [
              "<Figure size 432x288 with 1 Axes>"
            ]
          },
          "metadata": {
            "tags": [],
            "needs_background": "light"
          }
        }
      ]
    },
    {
      "cell_type": "code",
      "metadata": {
        "id": "mIhFWIL54qV-",
        "colab_type": "code",
        "colab": {
          "base_uri": "https://localhost:8080/",
          "height": 218
        },
        "outputId": "6c151245-09df-40a7-fca8-e93f877782cf"
      },
      "source": [
        "# change depth\n",
        "n=50  # allows us to see effect of parameters on model performance\n",
        "depth_scores = []\n",
        "depth_models = []\n",
        "depth = [2, 3, 4, 5, 6, 7]\n",
        "\n",
        "X_train = df[df.columns[sorted_idx_all[-n:]]]\n",
        "y_train = df['BLDG_FLOOR']\n",
        "for d in depth:\n",
        "  print('Features: {}, depth: {}'.format(n, d))\n",
        "  model, score = boost_model(X_train, y_train, depth=d)\n",
        "  depth_scores.append(score)\n",
        "  depth_models.append(model)"
      ],
      "execution_count": null,
      "outputs": [
        {
          "output_type": "stream",
          "text": [
            "Features: 50, depth: 2\n",
            "score: 0.9362491849325375\n",
            "Features: 50, depth: 3\n",
            "score: 0.9557606460350103\n",
            "Features: 50, depth: 4\n",
            "score: 0.9675477754928024\n",
            "Features: 50, depth: 5\n",
            "score: 0.9717108893012991\n",
            "Features: 50, depth: 6\n",
            "score: 0.9728645232482319\n",
            "Features: 50, depth: 7\n",
            "score: 0.973215629232081\n"
          ],
          "name": "stdout"
        }
      ]
    },
    {
      "cell_type": "code",
      "metadata": {
        "id": "vgK8Dr1F1gw3",
        "colab_type": "code",
        "colab": {
          "base_uri": "https://localhost:8080/",
          "height": 151
        },
        "outputId": "e2adf310-82c0-4878-c327-d9e95ba4f7f3"
      },
      "source": [
        "# check performance # of estimators\n",
        "n=50\n",
        "depth=5\n",
        "est_scores = []\n",
        "est_models = []\n",
        "estimators = [50, 100, 200, 300]\n",
        "\n",
        "X_train = df[df.columns[sorted_idx_all[-n:]]]\n",
        "y_train = df['BLDG_FLOOR']\n",
        "for est in estimators:\n",
        "  print('Features: {}, depth: {}, estimators: {}'.format(n, depth, est))\n",
        "  model, score = boost_model(X_train, y_train, n_estimators=est, depth=depth)\n",
        "  est_scores.append(score)\n",
        "  est_models.append(model)"
      ],
      "execution_count": null,
      "outputs": [
        {
          "output_type": "stream",
          "text": [
            "Features: 50, depth: 5, estimators: 50\n",
            "score: 0.9641370316496966\n",
            "Features: 50, depth: 5, estimators: 100\n",
            "score: 0.9717108893012991\n",
            "Features: 50, depth: 5, estimators: 200\n",
            "score: 0.9731153132366956\n",
            "Features: 50, depth: 5, estimators: 300\n",
            "score: 0.9732657872297737\n"
          ],
          "name": "stdout"
        }
      ]
    },
    {
      "cell_type": "markdown",
      "metadata": {
        "id": "2c__aYW65nOH",
        "colab_type": "text"
      },
      "source": [
        "Vary the learning rate"
      ]
    },
    {
      "cell_type": "code",
      "metadata": {
        "id": "jplU5VLHe5oa",
        "colab_type": "code",
        "colab": {
          "base_uri": "https://localhost:8080/",
          "height": 185
        },
        "outputId": "1da5e67d-ab5f-42ef-b445-c35724796247"
      },
      "source": [
        "# check performance learning rate\n",
        "n=50\n",
        "depth=5\n",
        "lr_scores = []\n",
        "lr_models = []\n",
        "learning_rates = [0.02, 0.05, 0.1, 0.2, 0.3]\n",
        "\n",
        "X_train = df[df.columns[sorted_idx_all[-n:]]]\n",
        "y_train = df['BLDG_FLOOR']\n",
        "for rate in learning_rates:\n",
        "  print('Features: {}, depth: {}, learning rate: {}'.format(n, depth, rate))\n",
        "  model, score = boost_model(X_train, y_train, learning_rate=rate, depth=depth)\n",
        "  lr_scores.append(score)\n",
        "  lr_models.append(model)"
      ],
      "execution_count": null,
      "outputs": [
        {
          "output_type": "stream",
          "text": [
            "Features: 50, depth: 5, learning rate: 0.02\n",
            "score: 0.9462306264733912\n",
            "Features: 50, depth: 5, learning rate: 0.05\n",
            "score: 0.964036715654311\n",
            "Features: 50, depth: 5, learning rate: 0.1\n",
            "score: 0.9718112052966845\n",
            "Features: 50, depth: 5, learning rate: 0.2\n",
            "score: 0.973215629232081\n",
            "Features: 50, depth: 5, learning rate: 0.3\n",
            "score: 0.9729648392436174\n"
          ],
          "name": "stdout"
        }
      ]
    },
    {
      "cell_type": "markdown",
      "metadata": {
        "id": "DOAjjZxF6MWN",
        "colab_type": "text"
      },
      "source": [
        "Also, try sub-sampling"
      ]
    },
    {
      "cell_type": "code",
      "metadata": {
        "id": "JFo92ZMWe5lT",
        "colab_type": "code",
        "colab": {
          "base_uri": "https://localhost:8080/",
          "height": 185
        },
        "outputId": "ea08042c-5149-4005-a251-f4f1d035f918"
      },
      "source": [
        "# check performance sub-sampling\n",
        "n=50\n",
        "depth=5\n",
        "sampling_scores = []\n",
        "sampling_models = []\n",
        "sub_samples = [0.4, 0.6, 0.8, 0.9, 1.0]\n",
        "\n",
        "X_train = df[df.columns[sorted_idx_all[-n:]]]\n",
        "y_train = df['BLDG_FLOOR']\n",
        "for sample in sub_samples:\n",
        "  print('Features: {}, depth: {}, subsamples: {}'.format(n, depth, sample))\n",
        "  model, score = boost_model(X_train, y_train, subsample=sample, depth=depth)\n",
        "  sampling_scores.append(score)\n",
        "  sampling_models.append(model)"
      ],
      "execution_count": null,
      "outputs": [
        {
          "output_type": "stream",
          "text": [
            "Features: 50, depth: 5, subsamples: 0.4\n",
            "score: 0.9705572553543662\n",
            "Features: 50, depth: 5, subsamples: 0.6\n",
            "score: 0.9716105733059136\n",
            "Features: 50, depth: 5, subsamples: 0.8\n",
            "score: 0.9718112052966845\n",
            "Features: 50, depth: 5, subsamples: 0.9\n",
            "score: 0.9721623112805337\n",
            "Features: 50, depth: 5, subsamples: 1.0\n",
            "score: 0.9717108893012991\n"
          ],
          "name": "stdout"
        }
      ]
    },
    {
      "cell_type": "markdown",
      "metadata": {
        "id": "p7cb_JhW2DPe",
        "colab_type": "text"
      },
      "source": [
        "# 4. Training - other models"
      ]
    },
    {
      "cell_type": "code",
      "metadata": {
        "colab_type": "code",
        "id": "P-uwBByK2Bv2",
        "colab": {
          "base_uri": "https://localhost:8080/",
          "height": 50
        },
        "outputId": "3fef08b5-5e40-44e4-da0f-57d467a8c541"
      },
      "source": [
        "# import classifier\n",
        "n=50\n",
        "from sklearn.svm import SVC\n",
        "\n",
        "# use default kernel (sbf)\n",
        "svm = SVC()\n",
        "svm_50 = SVC()\n",
        "X_train = df.drop(columns_to_drop,axis=1)\n",
        "X_train_50 = df[df.columns[sorted_idx_all[-n:]]]\n",
        "y_train = df['BLDG_FLOOR']\n",
        "\n",
        "svm.fit(X_train, y_train)\n",
        "print('svm full features score', svm.score(X_train,y_train) )\n",
        "\n",
        "svm_50.fit(X_train_50, y_train)\n",
        "print('svm reduced features score', svm_50.score(X_train_50,y_train) )"
      ],
      "execution_count": null,
      "outputs": [
        {
          "output_type": "stream",
          "text": [
            "svm full features score 0.9826954907960074\n",
            "svm reduced features score 0.8642223002457742\n"
          ],
          "name": "stdout"
        }
      ]
    },
    {
      "cell_type": "code",
      "metadata": {
        "colab_type": "code",
        "id": "Ath5iJIR2BwA",
        "colab": {
          "base_uri": "https://localhost:8080/",
          "height": 50
        },
        "outputId": "3c1bcd91-77a1-4f98-cfa7-b93c063b56fa"
      },
      "source": [
        "# random forest classifier\n",
        "n=50\n",
        "rfc = ensemble.RandomForestClassifier()\n",
        "rfc_50 = ensemble.RandomForestClassifier()\n",
        "\n",
        "X_train = df.drop(columns_to_drop,axis=1)\n",
        "X_train_50 = df[df.columns[sorted_idx_all[-n:]]]\n",
        "y_train = df['BLDG_FLOOR']\n",
        "\n",
        "rfc.fit(X_train, y_train)\n",
        "print('Random forest full features score', rfc.score(X_train,y_train) )\n",
        "\n",
        "rfc_50.fit(X_train_50, y_train)\n",
        "print('Random forest reduced features score', rfc_50.score(X_train_50,y_train) )"
      ],
      "execution_count": null,
      "outputs": [
        {
          "output_type": "stream",
          "text": [
            "Random forest full features score 0.9980438380899834\n",
            "Random forest reduced features score 0.973215629232081\n"
          ],
          "name": "stdout"
        }
      ]
    },
    {
      "cell_type": "code",
      "metadata": {
        "id": "2RvQXQ9SIhUF",
        "colab_type": "code",
        "colab": {
          "base_uri": "https://localhost:8080/",
          "height": 84
        },
        "outputId": "aff35df8-5a08-421e-8025-f57dde5f77dd"
      },
      "source": [
        "# Nearest neighbors (KNN)\n",
        "n=50\n",
        "X_train = df.drop(columns_to_drop,axis=1)\n",
        "X_train_50 = df[df.columns[sorted_idx_all[-n:]]]\n",
        "y_train = df['BLDG_FLOOR']\n",
        "\n",
        "n_neighbors = [3, 5, 7]\n",
        "knn_models = []\n",
        "print('KNN Full features')\n",
        "for nbors in n_neighbors:\n",
        "  knn = neighbors.KNeighborsClassifier(n_neighbors=nbors)\n",
        "  knn.fit(X_train, y_train)\n",
        "  print('n =',nbors, '; score = ', knn.score(X_train, y_train) )\n",
        "  knn_models.append(knn)"
      ],
      "execution_count": null,
      "outputs": [
        {
          "output_type": "stream",
          "text": [
            "KNN Full features\n",
            "n = 3 ; score =  0.9842503887244821\n",
            "n = 5 ; score =  0.9792345889552089\n",
            "n = 7 ; score =  0.9757235291167177\n"
          ],
          "name": "stdout"
        }
      ]
    },
    {
      "cell_type": "code",
      "metadata": {
        "id": "hHVQfO4KtELV",
        "colab_type": "code",
        "colab": {
          "base_uri": "https://localhost:8080/",
          "height": 34
        },
        "outputId": "f0aa87ed-f131-4ca5-9157-aaff36a46d9b"
      },
      "source": [
        "# Run the same model, this time with weights.\n",
        "nbors=3  # had highest score without weights\n",
        "knn_w = neighbors.KNeighborsRegressor(n_neighbors=nbors, weights='distance')\n",
        "knn_w.fit(X_train, y_train)\n",
        "\n",
        "knn_w.score(X_train, y_train)"
      ],
      "execution_count": null,
      "outputs": [
        {
          "output_type": "execute_result",
          "data": {
            "text/plain": [
              "0.9991032949423676"
            ]
          },
          "metadata": {
            "tags": []
          },
          "execution_count": 27
        }
      ]
    },
    {
      "cell_type": "code",
      "metadata": {
        "id": "VtWdupbO7VGn",
        "colab_type": "code",
        "colab": {
          "base_uri": "https://localhost:8080/",
          "height": 84
        },
        "outputId": "43ffbbcd-481a-4a0d-9b67-16cf6257df64"
      },
      "source": [
        "# Knn reduced features\n",
        "n=50\n",
        "X_train = df.drop(columns_to_drop,axis=1)\n",
        "X_train_50 = df[df.columns[sorted_idx_all[-n:]]]\n",
        "y_train = df['BLDG_FLOOR']\n",
        "\n",
        "n_neighbors = [3, 5, 7]\n",
        "knn_models_50 = []\n",
        "print('KNN Reduced features')\n",
        "for nbors in n_neighbors:\n",
        "  knn = neighbors.KNeighborsClassifier(n_neighbors=nbors)\n",
        "  knn.fit(X_train_50, y_train)\n",
        "  print('n =',nbors, '; score = ', knn.score(X_train_50, y_train) )\n",
        "  knn_models_50.append(knn)"
      ],
      "execution_count": null,
      "outputs": [
        {
          "output_type": "stream",
          "text": [
            "KNN Reduced features\n",
            "n = 3 ; score =  0.947935998394944\n",
            "n = 5 ; score =  0.9352460249786828\n",
            "n = 7 ; score =  0.9276220093293875\n"
          ],
          "name": "stdout"
        }
      ]
    },
    {
      "cell_type": "code",
      "metadata": {
        "id": "WzdK1-ZJ7Uzm",
        "colab_type": "code",
        "colab": {
          "base_uri": "https://localhost:8080/",
          "height": 34
        },
        "outputId": "fb3b495f-2b07-469f-d13f-be4ada90809b"
      },
      "source": [
        "# Run the same model, this time with weights.\n",
        "nbors=3\n",
        "knn_w_50 = neighbors.KNeighborsRegressor(n_neighbors=nbors, weights='distance')\n",
        "knn_w_50.fit(X_train_50, y_train)\n",
        "\n",
        "knn_w_50.score(X_train_50, y_train)"
      ],
      "execution_count": null,
      "outputs": [
        {
          "output_type": "execute_result",
          "data": {
            "text/plain": [
              "0.9863830931698189"
            ]
          },
          "metadata": {
            "tags": []
          },
          "execution_count": 29
        }
      ]
    },
    {
      "cell_type": "markdown",
      "metadata": {
        "id": "-s8ByZMI2rC6",
        "colab_type": "text"
      },
      "source": [
        "# 5. Results"
      ]
    },
    {
      "cell_type": "code",
      "metadata": {
        "id": "h42pdaev4srZ",
        "colab_type": "code",
        "colab": {}
      },
      "source": [
        "# Apply trained models on the test (validation) set\n",
        "# first create the BLDG_FLOOR feature\n",
        "df_test['BLDG_FLOOR'] = np.add(np.multiply(df_test['BUILDINGID'], 4), df_test['FLOOR'])\n",
        "\n",
        "# setup X & Y\n",
        "X_test = df_test.drop(columns_to_drop,axis=1)\n",
        "X_test_50 = df_test[df_test.columns[sorted_idx_all[-n:]]]\n",
        "y_test = df_test['BLDG_FLOOR']"
      ],
      "execution_count": null,
      "outputs": []
    },
    {
      "cell_type": "markdown",
      "metadata": {
        "id": "2ezdS7-HbLEW",
        "colab_type": "text"
      },
      "source": [
        "## Check performance of non-Boost models."
      ]
    },
    {
      "cell_type": "code",
      "metadata": {
        "id": "WzLSIPfs-kf4",
        "colab_type": "code",
        "colab": {
          "base_uri": "https://localhost:8080/",
          "height": 67
        },
        "outputId": "8509cfab-88c7-462d-b6c8-dca13a4a7f26"
      },
      "source": [
        "print('SVM')\n",
        "print('  full features', svm.score(X_test, y_test) )\n",
        "print('  reduced features', svm_50.score(X_test_50, y_test) )"
      ],
      "execution_count": null,
      "outputs": [
        {
          "output_type": "stream",
          "text": [
            "SVM\n",
            "  full features 0.8082808280828083\n",
            "  reduced features 0.6579657965796579\n"
          ],
          "name": "stdout"
        }
      ]
    },
    {
      "cell_type": "code",
      "metadata": {
        "id": "hqM4xQhX-jlf",
        "colab_type": "code",
        "colab": {
          "base_uri": "https://localhost:8080/",
          "height": 67
        },
        "outputId": "bf7a3e75-8d01-4225-a11b-6c0d660773a3"
      },
      "source": [
        "print('Random Forest')\n",
        "print('  full features', rfc.score(X_test, y_test) )\n",
        "print('  reduced features', rfc_50.score(X_test_50, y_test) )"
      ],
      "execution_count": null,
      "outputs": [
        {
          "output_type": "stream",
          "text": [
            "Random Forest\n",
            "  full features 0.8811881188118812\n",
            "  reduced features 0.7686768676867687\n"
          ],
          "name": "stdout"
        }
      ]
    },
    {
      "cell_type": "code",
      "metadata": {
        "id": "lbXctU7-6ePN",
        "colab_type": "code",
        "colab": {
          "base_uri": "https://localhost:8080/",
          "height": 101
        },
        "outputId": "8aeaba21-cfa5-43cc-ef25-28c26d23f356"
      },
      "source": [
        "print('Nearest Neighbors Full Features')\n",
        "for model in knn_models:\n",
        "  print(model.score(X_test, y_test) )\n",
        "print('weighted', knn_w.score(X_test, y_test) )"
      ],
      "execution_count": null,
      "outputs": [
        {
          "output_type": "stream",
          "text": [
            "Nearest Neighbors Full Features\n",
            "0.7344734473447345\n",
            "0.72997299729973\n",
            "0.7362736273627363\n",
            "weighted 0.9550270413450326\n"
          ],
          "name": "stdout"
        }
      ]
    },
    {
      "cell_type": "code",
      "metadata": {
        "id": "PIHqDn_h75Wg",
        "colab_type": "code",
        "colab": {
          "base_uri": "https://localhost:8080/",
          "height": 101
        },
        "outputId": "41e3a291-62b2-40ad-96d2-c80bd831fcbb"
      },
      "source": [
        "print('Nearest Neighbors Reduced Features')\n",
        "for model in knn_models_50:\n",
        "  print(model.score(X_test_50, y_test) )\n",
        "print('weighted', knn_w_50.score(X_test_50, y_test) )"
      ],
      "execution_count": null,
      "outputs": [
        {
          "output_type": "stream",
          "text": [
            "Nearest Neighbors Reduced Features\n",
            "0.7263726372637264\n",
            "0.7182718271827183\n",
            "0.7128712871287128\n",
            "weighted 0.9384197282570467\n"
          ],
          "name": "stdout"
        }
      ]
    },
    {
      "cell_type": "markdown",
      "metadata": {
        "id": "OqBeLAET-zm7",
        "colab_type": "text"
      },
      "source": [
        "## Boost model performance"
      ]
    },
    {
      "cell_type": "markdown",
      "metadata": {
        "id": "Uo7KMZCKAUZj",
        "colab_type": "text"
      },
      "source": [
        "### Full features"
      ]
    },
    {
      "cell_type": "code",
      "metadata": {
        "id": "2HQR_7DibHZd",
        "colab_type": "code",
        "colab": {
          "base_uri": "https://localhost:8080/",
          "height": 34
        },
        "outputId": "01b53d9c-891e-4ece-8294-85cbc55ea0ce"
      },
      "source": [
        "print('Boost - base model score: ', base_clf.score(X_test, y_test) )"
      ],
      "execution_count": null,
      "outputs": [
        {
          "output_type": "stream",
          "text": [
            "Boost - base model score:  0.8766876687668766\n"
          ],
          "name": "stdout"
        }
      ]
    },
    {
      "cell_type": "code",
      "metadata": {
        "id": "4YD6N8Y8BBV1",
        "colab_type": "code",
        "colab": {
          "base_uri": "https://localhost:8080/",
          "height": 84
        },
        "outputId": "9f25bb4c-8ca5-470b-fb37-76daf2a96ce7"
      },
      "source": [
        "print('vary depth')\n",
        "for model in full_depth_models:\n",
        "  print(model.score(X_test, y_test) )"
      ],
      "execution_count": null,
      "outputs": [
        {
          "output_type": "stream",
          "text": [
            "vary depth\n",
            "0.873087308730873\n",
            "0.8757875787578758\n",
            "0.8676867686768677\n"
          ],
          "name": "stdout"
        }
      ]
    },
    {
      "cell_type": "code",
      "metadata": {
        "id": "H-FRZCH2BRbY",
        "colab_type": "code",
        "colab": {
          "base_uri": "https://localhost:8080/",
          "height": 84
        },
        "outputId": "7a0fc5e7-e057-4ea7-930a-3b10fed2483b"
      },
      "source": [
        "print('vary estimators')\n",
        "for model in full_est_models:\n",
        "  print(model.score(X_test, y_test) )"
      ],
      "execution_count": null,
      "outputs": [
        {
          "output_type": "stream",
          "text": [
            "vary estimators\n",
            "0.8568856885688569\n",
            "0.8586858685868587\n",
            "0.8694869486948695\n"
          ],
          "name": "stdout"
        }
      ]
    },
    {
      "cell_type": "markdown",
      "metadata": {
        "id": "mtCexcvrAh6T",
        "colab_type": "text"
      },
      "source": [
        "### Reduced features"
      ]
    },
    {
      "cell_type": "code",
      "metadata": {
        "id": "MIuZevW3bHV-",
        "colab_type": "code",
        "colab": {
          "base_uri": "https://localhost:8080/",
          "height": 134
        },
        "outputId": "b617f670-6d38-4695-96a2-de2284db0d68"
      },
      "source": [
        "print('Reduced features - varied depth')\n",
        "for model in depth_models:\n",
        "  print(model.score(X_test_50, y_test) )"
      ],
      "execution_count": null,
      "outputs": [
        {
          "output_type": "stream",
          "text": [
            "Reduced features - varied depth\n",
            "0.7668766876687669\n",
            "0.7767776777677767\n",
            "0.7767776777677767\n",
            "0.7803780378037803\n",
            "0.7767776777677767\n",
            "0.7713771377137714\n"
          ],
          "name": "stdout"
        }
      ]
    },
    {
      "cell_type": "code",
      "metadata": {
        "id": "ETyAxVjJfTrX",
        "colab_type": "code",
        "colab": {
          "base_uri": "https://localhost:8080/",
          "height": 101
        },
        "outputId": "d9e6f982-f461-4d58-ba80-05fb9002d129"
      },
      "source": [
        "print('varied estimators')\n",
        "for model in est_models:\n",
        "  print(model.score(X_test_50, y_test) )"
      ],
      "execution_count": null,
      "outputs": [
        {
          "output_type": "stream",
          "text": [
            "varied estimators\n",
            "0.774077407740774\n",
            "0.7812781278127813\n",
            "0.783978397839784\n",
            "0.7866786678667866\n"
          ],
          "name": "stdout"
        }
      ]
    },
    {
      "cell_type": "code",
      "metadata": {
        "id": "XYeJERR5fTg2",
        "colab_type": "code",
        "colab": {
          "base_uri": "https://localhost:8080/",
          "height": 118
        },
        "outputId": "86d64c0a-d848-4a45-8072-b9c4b61ed3d0"
      },
      "source": [
        "print('varied learning rate')\n",
        "for model in lr_models:\n",
        "  print(model.score(X_test_50, y_test) )"
      ],
      "execution_count": null,
      "outputs": [
        {
          "output_type": "stream",
          "text": [
            "varied learning rate\n",
            "0.7470747074707471\n",
            "0.7722772277227723\n",
            "0.7821782178217822\n",
            "0.783978397839784\n",
            "0.7794779477947795\n"
          ],
          "name": "stdout"
        }
      ]
    },
    {
      "cell_type": "code",
      "metadata": {
        "id": "Iw8oflWIfTS7",
        "colab_type": "code",
        "colab": {
          "base_uri": "https://localhost:8080/",
          "height": 118
        },
        "outputId": "2b3bf769-51be-4f02-9332-aa83fc4885e1"
      },
      "source": [
        "print('varied subsampling')\n",
        "for model in sampling_models:\n",
        "  print(model.score(X_test_50, y_test) )"
      ],
      "execution_count": null,
      "outputs": [
        {
          "output_type": "stream",
          "text": [
            "varied subsampling\n",
            "0.774977497749775\n",
            "0.7758775877587759\n",
            "0.783078307830783\n",
            "0.7767776777677767\n",
            "0.7785778577857786\n"
          ],
          "name": "stdout"
        }
      ]
    },
    {
      "cell_type": "markdown",
      "metadata": {
        "id": "ndm9icAZBxla",
        "colab_type": "text"
      },
      "source": [
        "# 5. Conclusion"
      ]
    },
    {
      "cell_type": "markdown",
      "metadata": {
        "id": "-NyhggNn3YnA",
        "colab_type": "text"
      },
      "source": [
        "KNN performs the best.\n",
        "\n",
        "The results also support first using a simpler model like KNN or random forest to get a sense of accuracy before moving on to more complex models like Boost.\n"
      ]
    },
    {
      "cell_type": "markdown",
      "metadata": {
        "id": "WtqrePoDBy6Q",
        "colab_type": "text"
      },
      "source": [
        "# 6. Next Steps"
      ]
    },
    {
      "cell_type": "markdown",
      "metadata": {
        "id": "tPPbafLK4byR",
        "colab_type": "text"
      },
      "source": [
        "The accuracy on the training set is significantly higher than on the test set which could indicate overfitting.\n",
        "Cross validation could be used to help determine goodness of fit."
      ]
    },
    {
      "cell_type": "markdown",
      "metadata": {
        "id": "X-zJDekXh1eD",
        "colab_type": "text"
      },
      "source": [
        "Boost performance is significantly lower than in training, check for overfitting."
      ]
    },
    {
      "cell_type": "code",
      "metadata": {
        "id": "27AFTOCmh2Vg",
        "colab_type": "code",
        "colab": {
          "base_uri": "https://localhost:8080/",
          "height": 34
        },
        "outputId": "046d7842-3a4f-414d-f160-bd0315dc5851"
      },
      "source": [
        "# Check goodness of fit with cross_val_score using model defaults\n",
        "\n",
        "from sklearn.model_selection import cross_val_score\n",
        "boost = ensemble.GradientBoostingClassifier()\n",
        "cross_val_score(boost, X_train, y_train, cv=5)"
      ],
      "execution_count": null,
      "outputs": [
        {
          "output_type": "execute_result",
          "data": {
            "text/plain": [
              "array([0.87738215, 0.98721163, 0.94933534, 0.9834462 , 0.94256333])"
            ]
          },
          "metadata": {
            "tags": []
          },
          "execution_count": 42
        }
      ]
    },
    {
      "cell_type": "markdown",
      "metadata": {
        "id": "kV_I1z4Do3Yn",
        "colab_type": "text"
      },
      "source": [
        "There is high variance, more aggressive regularization techniques can be explored as a next step.\n",
        "\n",
        "Also, the test dataset should be compared versus the training dataset to check for differences."
      ]
    },
    {
      "cell_type": "code",
      "metadata": {
        "id": "9qY8KPnoo8JI",
        "colab_type": "code",
        "colab": {}
      },
      "source": [
        ""
      ],
      "execution_count": null,
      "outputs": []
    }
  ]
}